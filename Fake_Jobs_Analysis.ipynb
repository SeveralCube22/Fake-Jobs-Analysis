{
  "cells": [
    {
      "cell_type": "code",
      "execution_count": null,
      "metadata": {
        "id": "L4neLBhZO2HP"
      },
      "outputs": [],
      "source": [
        "import pandas as pd\n",
        "import numpy as np\n",
        "import tensorflow as tf\n",
        "import matplotlib.pyplot as plt\n",
        "from tensorflow import keras\n",
        "from sklearn.model_selection import train_test_split\n",
        "from gensim.test.utils import common_texts\n",
        "from gensim.models.doc2vec import Doc2Vec, TaggedDocument\n",
        "from sklearn.decomposition import PCA"
      ]
    },
    {
      "cell_type": "code",
      "execution_count": null,
      "metadata": {
        "colab": {
          "base_uri": "https://localhost:8080/"
        },
        "id": "T9jYCXu-O2HR",
        "outputId": "5f270c87-c6a3-4dc8-f926-150f77bb7588"
      },
      "outputs": [
        {
          "output_type": "stream",
          "name": "stdout",
          "text": [
            "   job_id                                      title            location  \\\n",
            "0       1                           Marketing Intern    US, NY, New York   \n",
            "1       2  Customer Service - Cloud Video Production      NZ, , Auckland   \n",
            "2       3    Commissioning Machinery Assistant (CMA)       US, IA, Wever   \n",
            "3       4          Account Executive - Washington DC  US, DC, Washington   \n",
            "4       5                        Bill Review Manager  US, FL, Fort Worth   \n",
            "\n",
            "  department salary_range                                    company_profile  \\\n",
            "0  Marketing          NaN  We're Food52, and we've created a groundbreaki...   \n",
            "1    Success          NaN  90 Seconds, the worlds Cloud Video Production ...   \n",
            "2        NaN          NaN  Valor Services provides Workforce Solutions th...   \n",
            "3      Sales          NaN  Our passion for improving quality of life thro...   \n",
            "4        NaN          NaN  SpotSource Solutions LLC is a Global Human Cap...   \n",
            "\n",
            "                                         description  \\\n",
            "0  Food52, a fast-growing, James Beard Award-winn...   \n",
            "1  Organised - Focused - Vibrant - Awesome!Do you...   \n",
            "2  Our client, located in Houston, is actively se...   \n",
            "3  THE COMPANY: ESRI – Environmental Systems Rese...   \n",
            "4  JOB TITLE: Itemization Review ManagerLOCATION:...   \n",
            "\n",
            "                                        requirements  \\\n",
            "0  Experience with content management systems a m...   \n",
            "1  What we expect from you:Your key responsibilit...   \n",
            "2  Implement pre-commissioning and commissioning ...   \n",
            "3  EDUCATION: Bachelor’s or Master’s in GIS, busi...   \n",
            "4  QUALIFICATIONS:RN license in the State of Texa...   \n",
            "\n",
            "                                            benefits  telecommuting  \\\n",
            "0                                                NaN              0   \n",
            "1  What you will get from usThrough being part of...              0   \n",
            "2                                                NaN              0   \n",
            "3  Our culture is anything but corporate—we have ...              0   \n",
            "4                              Full Benefits Offered              0   \n",
            "\n",
            "   has_company_logo  has_questions employment_type required_experience  \\\n",
            "0                 1              0           Other          Internship   \n",
            "1                 1              0       Full-time      Not Applicable   \n",
            "2                 1              0             NaN                 NaN   \n",
            "3                 1              0       Full-time    Mid-Senior level   \n",
            "4                 1              1       Full-time    Mid-Senior level   \n",
            "\n",
            "  required_education                   industry              function  \\\n",
            "0                NaN                        NaN             Marketing   \n",
            "1                NaN  Marketing and Advertising      Customer Service   \n",
            "2                NaN                        NaN                   NaN   \n",
            "3  Bachelor's Degree          Computer Software                 Sales   \n",
            "4  Bachelor's Degree     Hospital & Health Care  Health Care Provider   \n",
            "\n",
            "   fraudulent  \n",
            "0           0  \n",
            "1           0  \n",
            "2           0  \n",
            "3           0  \n",
            "4           0  \n",
            "17880\n"
          ]
        }
      ],
      "source": [
        "df = pd.read_csv(\"fake_job_postings.csv\")\n",
        "print(df.head(5))\n",
        "print(len(df))\n",
        "\n"
      ]
    },
    {
      "cell_type": "markdown",
      "metadata": {
        "id": "ZKaYcL8BO2HS"
      },
      "source": [
        "Some textual data have missing values, so going to fill those missing values with an empty space. \n",
        "\n",
        "We don't want to completely delete the rows with missing values because that could be the defining feature in terms of if a job posting if fradulent or not. \n",
        "\n",
        "A missing value should be a valid value for all the features. As a result, we're just filling it with a space. "
      ]
    },
    {
      "cell_type": "code",
      "execution_count": null,
      "metadata": {
        "id": "3oZg4uBQO2HS"
      },
      "outputs": [],
      "source": [
        "df.fillna(' ', inplace=True)\n"
      ]
    },
    {
      "cell_type": "markdown",
      "metadata": {
        "id": "EX7SaHllO2HT"
      },
      "source": [
        "Concatenating all textual data as well as downsampling majority class. \n",
        "\n",
        "We have to downsample the non-fradulent instances (or upsample fradulent instances. The only issue might be that data is duplicated) so that our model does not become biased. \n",
        "\n",
        "We're also combining all of the textual data into one so that we can feed this text into our doc2vec model. "
      ]
    },
    {
      "cell_type": "code",
      "execution_count": null,
      "metadata": {
        "colab": {
          "base_uri": "https://localhost:8080/"
        },
        "id": "JPMewkILO2HT",
        "outputId": "eba4ca54-ac09-4098-ac47-8a76d969a12e"
      },
      "outputs": [
        {
          "output_type": "stream",
          "name": "stdout",
          "text": [
            "       job_id                                        title  \\\n",
            "209       210                  Customer Service Associate    \n",
            "7885     7886                      Senior Benefits Analyst   \n",
            "15352   15353    Submit Your Resume for Upcoming Positions   \n",
            "4897     4898      Customer Service Associate - Part Time    \n",
            "15543   15544  Senior Full Stack Developer (Ruby on Rails)   \n",
            "\n",
            "                     location      department salary_range  \\\n",
            "209    US, ME, South Portland                                \n",
            "7885         US, CA, Redlands              HR                \n",
            "15352    US, CA, Los Angeles   Nonprofit Only                \n",
            "4897        US, NC, Charlotte                                \n",
            "15543        US, NY, Brooklyn     Engineering                \n",
            "\n",
            "                                         company_profile  \\\n",
            "209    Novitex Enterprise Solutions, formerly Pitney ...   \n",
            "7885   Our passion for improving quality of life thro...   \n",
            "15352  Envision Consulting conducts retained searches...   \n",
            "4897   Novitex Enterprise Solutions, formerly Pitney ...   \n",
            "15543  Boxbee is the Storage Valet Service. We are a ...   \n",
            "\n",
            "                                             description  \\\n",
            "209    The Customer Service Associate will be based i...   \n",
            "7885   Be part of a team involved in reshaping the wa...   \n",
            "15352  Envision Consulting conducts retained searches...   \n",
            "4897   The Customer Service Associate will be based i...   \n",
            "15543  This is a truly full stack role: you’ll work o...   \n",
            "\n",
            "                                            requirements  \\\n",
            "209    Minimum Requirements:Minimum of 6 months custo...   \n",
            "7885   EDUCATION: Bachelor’s in business administrati...   \n",
            "15352                                                      \n",
            "4897   Minimum Requirements:Minimum of 1 year custome...   \n",
            "15543  4+ years experience as a full stack web develo...   \n",
            "\n",
            "                                                benefits  telecommuting  \\\n",
            "209                                                                   0   \n",
            "7885   Our culture is anything but corporate—we have ...              0   \n",
            "15352                                                                 0   \n",
            "4897                                                                  0   \n",
            "15543  We'll provide you with whatever tools (display...              0   \n",
            "\n",
            "       has_company_logo  has_questions employment_type required_experience  \\\n",
            "209                   1              0       Full-time         Entry level   \n",
            "7885                  1              0       Full-time    Mid-Senior level   \n",
            "15352                 1              1                                       \n",
            "4897                  1              0       Part-time         Entry level   \n",
            "15543                 1              1       Full-time    Mid-Senior level   \n",
            "\n",
            "              required_education                    industry  \\\n",
            "209    High School or equivalent      Hospital & Health Care   \n",
            "7885           Bachelor's Degree             Human Resources   \n",
            "15352                                                          \n",
            "4897   High School or equivalent          Financial Services   \n",
            "15543                             Logistics and Supply Chain   \n",
            "\n",
            "               function  fraudulent  \\\n",
            "209    Customer Service           0   \n",
            "7885    Human Resources           0   \n",
            "15352                             0   \n",
            "4897   Customer Service           0   \n",
            "15543       Engineering           0   \n",
            "\n",
            "                                           combined_text  \n",
            "209    Customer Service Associate  The Customer Servi...  \n",
            "7885   Senior Benefits Analyst Be part of a team invo...  \n",
            "15352  Submit Your Resume for Upcoming Positions Envi...  \n",
            "4897   Customer Service Associate - Part Time  The Cu...  \n",
            "15543  Senior Full Stack Developer (Ruby on Rails) Th...  \n",
            "\n",
            "Num Missing Values = job_id                 0\n",
            "title                  0\n",
            "location               0\n",
            "department             0\n",
            "salary_range           0\n",
            "company_profile        0\n",
            "description            0\n",
            "requirements           0\n",
            "benefits               0\n",
            "telecommuting          0\n",
            "has_company_logo       0\n",
            "has_questions          0\n",
            "employment_type        0\n",
            "required_experience    0\n",
            "required_education     0\n",
            "industry               0\n",
            "function               0\n",
            "fraudulent             0\n",
            "combined_text          0\n",
            "dtype: int64\n",
            "\n",
            "             job_id  telecommuting  has_company_logo  has_questions  \\\n",
            "count   1866.000000    1866.000000       1866.000000    1866.000000   \n",
            "mean    9713.422830       0.047160          0.596463       0.397642   \n",
            "std     5663.655198       0.212037          0.490738       0.489542   \n",
            "min        3.000000       0.000000          0.000000       0.000000   \n",
            "25%     4971.500000       0.000000          0.000000       0.000000   \n",
            "50%     9069.000000       0.000000          1.000000       0.000000   \n",
            "75%    15374.000000       0.000000          1.000000       1.000000   \n",
            "max    17844.000000       1.000000          1.000000       1.000000   \n",
            "\n",
            "        fraudulent  \n",
            "count  1866.000000  \n",
            "mean      0.464094  \n",
            "std       0.498843  \n",
            "min       0.000000  \n",
            "25%       0.000000  \n",
            "50%       0.000000  \n",
            "75%       1.000000  \n",
            "max       1.000000  \n"
          ]
        }
      ],
      "source": [
        "df0 = df[df['fraudulent']==0]\n",
        "df0 = df0.sample(1000)\n",
        "\n",
        "df2 = df[df['fraudulent']==1]\n",
        "\n",
        "balanced = pd.concat([df0,df2],axis=0)\n",
        "balanced[\"combined_text\"] = balanced[\"title\"] + \" \" + balanced[\"description\"] + \" \" + balanced[\"benefits\"] + \" \" + balanced[\"requirements\"] + \" \" + balanced[\"salary_range\"] \n",
        "\n",
        "train_df = balanced\n",
        "\n",
        "print(train_df.head(5))\n",
        "print()\n",
        "print(f\"Num Missing Values = {train_df.isnull().sum() + train_df.isna().sum()}\")\n",
        "print()\n",
        "print(train_df.describe())"
      ]
    },
    {
      "cell_type": "markdown",
      "metadata": {
        "id": "SRGTPbU1O2HU"
      },
      "source": [
        "Going to use doc2vec to transform textual data into a vector of numerical values. Not doing in any preprocessing such as removing stop words."
      ]
    },
    {
      "cell_type": "code",
      "execution_count": null,
      "metadata": {
        "id": "UH-sVZq7O2HV"
      },
      "outputs": [],
      "source": [
        "docs = [text.split() for text in train_df[\"combined_text\"]]#list of lists of words\n",
        "tagged_docs = [TaggedDocument(doc, [i]) for i, doc in enumerate(docs)]\n",
        "doc2vec_model = Doc2Vec(tagged_docs) # can have optional vector_size to set dimensionality"
      ]
    },
    {
      "cell_type": "markdown",
      "source": [
        "Finding the columns that can pass as categorical data."
      ],
      "metadata": {
        "id": "yzcpE8btpAIZ"
      }
    },
    {
      "cell_type": "code",
      "source": [
        "cleaned_train_df = train_df.copy()\n",
        "\n",
        "NUM_UNIQUE = 20\n",
        "categorical = {}\n",
        "\n",
        "for col in cleaned_train_df.columns:\n",
        "  if col != \"combined_text\" and col != 'fraudulent':\n",
        "    num_unique = cleaned_train_df[col].nunique()\n",
        "    if num_unique < NUM_UNIQUE:\n",
        "      categorical[col] = num_unique\n",
        "\n",
        "print(categorical)\n",
        "plt.bar(categorical.keys(), categorical.values(), width = 1.2)\n",
        "print(f\"TRAINING DF SIZE {len(cleaned_train_df)}\")\n",
        "\n",
        "plt.show()\n",
        "\n",
        "encoded_categorical_col_values = {}\n",
        "\n",
        "for col in categorical:\n",
        "  encoded_categorical = pd.get_dummies(cleaned_train_df[col], prefix=col)\n",
        "  encoded_categorical_col_values[col] = encoded_categorical.columns\n",
        "  for encoded_col in encoded_categorical.columns:\n",
        "    cleaned_train_df[encoded_col] = encoded_categorical[encoded_col]\n",
        "  \n",
        "\n",
        "print(cleaned_train_df.columns)\n",
        "print(len(cleaned_train_df))\n",
        "\n"
      ],
      "metadata": {
        "id": "Zx-rdpoRRpap",
        "colab": {
          "base_uri": "https://localhost:8080/",
          "height": 717
        },
        "outputId": "cb4fe9d7-add8-4364-ea96-996174052dfc"
      },
      "execution_count": null,
      "outputs": [
        {
          "output_type": "stream",
          "name": "stdout",
          "text": [
            "{'telecommuting': 2, 'has_company_logo': 2, 'has_questions': 2, 'employment_type': 6, 'required_experience': 8, 'required_education': 12}\n",
            "TRAINING DF SIZE 1866\n"
          ]
        },
        {
          "output_type": "display_data",
          "data": {
            "text/plain": [
              "<Figure size 432x288 with 1 Axes>"
            ],
            "image/png": "[encoded data removed]"
          },
          "metadata": {
            "needs_background": "light"
          }
        },
        {
          "output_type": "stream",
          "name": "stdout",
          "text": [
            "Index(['job_id', 'title', 'location', 'department', 'salary_range',\n",
            "       'company_profile', 'description', 'requirements', 'benefits',\n",
            "       'telecommuting', 'has_company_logo', 'has_questions', 'employment_type',\n",
            "       'required_experience', 'required_education', 'industry', 'function',\n",
            "       'fraudulent', 'combined_text', 'telecommuting_0', 'telecommuting_1',\n",
            "       'has_company_logo_0', 'has_company_logo_1', 'has_questions_0',\n",
            "       'has_questions_1', 'employment_type_ ', 'employment_type_Contract',\n",
            "       'employment_type_Full-time', 'employment_type_Other',\n",
            "       'employment_type_Part-time', 'employment_type_Temporary',\n",
            "       'required_experience_ ', 'required_experience_Associate',\n",
            "       'required_experience_Director', 'required_experience_Entry level',\n",
            "       'required_experience_Executive', 'required_experience_Internship',\n",
            "       'required_experience_Mid-Senior level',\n",
            "       'required_experience_Not Applicable', 'required_education_ ',\n",
            "       'required_education_Associate Degree',\n",
            "       'required_education_Bachelor's Degree',\n",
            "       'required_education_Certification', 'required_education_Doctorate',\n",
            "       'required_education_High School or equivalent',\n",
            "       'required_education_Master's Degree', 'required_education_Professional',\n",
            "       'required_education_Some College Coursework Completed',\n",
            "       'required_education_Some High School Coursework',\n",
            "       'required_education_Unspecified', 'required_education_Vocational'],\n",
            "      dtype='object')\n",
            "1866\n"
          ]
        }
      ]
    },
    {
      "cell_type": "markdown",
      "metadata": {
        "id": "sy-tQcAlO2HV"
      },
      "source": [
        "Converting all the textual data into vectors using the model"
      ]
    },
    {
      "cell_type": "markdown",
      "source": [
        "Appending the one-hot encoded categorical values to the doc embeddings."
      ],
      "metadata": {
        "id": "_QGjPKhLSW_D"
      }
    },
    {
      "cell_type": "code",
      "execution_count": null,
      "metadata": {
        "id": "TQEbOwkQO2HV"
      },
      "outputs": [],
      "source": [
        "#X = [doc2vec_model.infer_vector(doc.split()) for doc in cleaned_train_df[\"combined_text\"]]\n",
        "X = []\n",
        "# append encoded_categorical to X\n",
        "for _, row in cleaned_train_df.iterrows():\n",
        "  feature_vector = doc2vec_model.infer_vector(row[\"combined_text\"].split())\n",
        "  for col in categorical:\n",
        "    encoded_vec = []\n",
        "    for encoded_col in encoded_categorical_col_values[col]:\n",
        "      encoded_vec.append(row[encoded_col])\n",
        "    feature_vector = np.append(feature_vector, encoded_vec)\n",
        "    \n",
        "  X.append(feature_vector)\n",
        "\n",
        "Y = [y for y in train_df[\"fraudulent\"]]"
      ]
    },
    {
      "cell_type": "markdown",
      "metadata": {
        "id": "qAet2DVMO2HW"
      },
      "source": [
        "Train test split"
      ]
    },
    {
      "cell_type": "code",
      "execution_count": null,
      "metadata": {
        "id": "Q8hv9OcdO2HW",
        "outputId": "e890693e-a4cf-484c-fc46-37f3e0d75805",
        "colab": {
          "base_uri": "https://localhost:8080/"
        }
      },
      "outputs": [
        {
          "output_type": "stream",
          "name": "stdout",
          "text": [
            "(1492, 132)\n"
          ]
        }
      ],
      "source": [
        "x_train, x_test, y_train, y_test = train_test_split(X, Y, test_size=0.20, stratify=Y)\n",
        "\n",
        "x_train = np.array(x_train)\n",
        "y_train = np.array(y_train)\n",
        "x_test = np.array(x_test)\n",
        "y_test = np.array(y_test)\n",
        "\n",
        "print(x_train.shape)\n"
      ]
    },
    {
      "cell_type": "code",
      "execution_count": null,
      "metadata": {
        "id": "LGKcBX-tO2HX"
      },
      "outputs": [],
      "source": [
        "def build_model(input_shape, n_hidden, n_neurons_hidden, n_neurons_output, learning_rate):\n",
        "\n",
        "    #-->add your Pyhton code here\n",
        "\n",
        "    #Creating the Neural Network using the Sequential API\n",
        "    model = keras.models.Sequential()\n",
        "    model.add(keras.layers.Flatten(input_shape=input_shape))                                #input layer\n",
        "\n",
        "    #iterate over the number of hidden layers to create the hidden layers:\n",
        "    for i in range(n_hidden):\n",
        "        model.add(keras.layers.Dense(n_neurons_hidden, activation=\"relu\"))                   #hidden layer with ReLU activation function\n",
        "\n",
        "    #output layer\n",
        "    model.add(keras.layers.Dense(n_neurons_output, activation=\"softmax\"))                #output layer with one neural for each class and the softmax activation function since the classes are exclusive\n",
        "\n",
        "    #defining the learning rate\n",
        "    opt = keras.optimizers.SGD(learning_rate)\n",
        "\n",
        "    #Compiling the Model specifying the loss function and the optimizer to use.\n",
        "    model.compile(loss=\"sparse_categorical_crossentropy\", optimizer=opt, metrics=[\"accuracy\"])\n",
        "    return model"
      ]
    },
    {
      "cell_type": "code",
      "execution_count": null,
      "metadata": {
        "id": "EmiC-9PwO2HX",
        "outputId": "3874176b-d3fc-430a-f5f9-8664c9d82450",
        "colab": {
          "base_uri": "https://localhost:8080/"
        }
      },
      "outputs": [
        {
          "output_type": "stream",
          "name": "stdout",
          "text": [
            "47/47 [==============================] - 1s 4ms/step - loss: 0.6924 - accuracy: 0.5188\n",
            "12/12 [==============================] - 0s 2ms/step - loss: 0.6911 - accuracy: 0.5348\n",
            "Toy Neural Network Accuracy: 0.5347593426704407\n"
          ]
        }
      ],
      "source": [
        "classifier = build_model((132,),20, 100, 2, .2)\n",
        "\n",
        "classifier.fit(x_train, y_train)\n",
        "\n",
        "result = classifier.evaluate(x_test, y_test)\n",
        "print(f\"Toy Neural Network Accuracy: {result[1]}\")\n"
      ]
    },
    {
      "cell_type": "markdown",
      "metadata": {
        "id": "fvo8PjZgO2HX"
      },
      "source": [
        "Going to try with Random Forests to see if I get better results."
      ]
    },
    {
      "cell_type": "code",
      "execution_count": null,
      "metadata": {
        "id": "4lQBT-NnO2HY",
        "outputId": "14a94695-1926-4d3a-c734-90225ed952bf",
        "colab": {
          "base_uri": "https://localhost:8080/"
        }
      },
      "outputs": [
        {
          "output_type": "stream",
          "name": "stdout",
          "text": [
            "Random Forest accuracy: 0.8342245989304813\n"
          ]
        }
      ],
      "source": [
        "from sklearn.ensemble import RandomForestClassifier\n",
        "clf=RandomForestClassifier(n_estimators=20) #this is the number of decision trees that will be generated by Random Forest. The sample of the ensemble method used before\n",
        "\n",
        "#Fit Random Forest to the training data\n",
        "clf.fit(x_train, y_train)\n",
        "\n",
        "pred_true = 0\n",
        "pred_total = 0\n",
        "   \n",
        "for x, y in zip(x_test, y_test):\n",
        "   pred_class = clf.predict([x])[0]\n",
        "   if pred_class == y: pred_true += 1\n",
        "   pred_total += 1\n",
        "#printing Random Forest accuracy here\n",
        "print(\"Random Forest accuracy: \" + str(pred_true / pred_total))"
      ]
    },
    {
      "cell_type": "markdown",
      "source": [
        "Going to try to see if there is an improvement if we reduce the dimensions using PCA"
      ],
      "metadata": {
        "id": "3OA77QuJqirY"
      }
    },
    {
      "cell_type": "code",
      "source": [
        "from sklearn.decomposition import PCA\n",
        "\n",
        "pca = PCA()\n",
        "pca.fit(X)\n",
        "\n",
        "num_components = 0\n",
        "running_var = 0\n",
        "for var in pca.explained_variance_ratio_:\n",
        "  num_components += 1\n",
        "  running_var += var\n",
        "  if running_var >= .9:\n",
        "    break\n",
        "\n",
        "print(f\"NUM COMPONENTS NEEDED TO GET AROUND 90% VARIANCE {num_components}\")"
      ],
      "metadata": {
        "colab": {
          "base_uri": "https://localhost:8080/"
        },
        "id": "JWn0ZW87qmT3",
        "outputId": "72d3e354-ad5d-45e6-8162-1fc2c1efe6ee"
      },
      "execution_count": null,
      "outputs": [
        {
          "output_type": "stream",
          "name": "stdout",
          "text": [
            "NUM COMPONENTS NEEDED TO GET AROUND 90% VARIANCE 19\n"
          ]
        }
      ]
    },
    {
      "cell_type": "markdown",
      "source": [
        "Refit PCA with 19 components"
      ],
      "metadata": {
        "id": "00cOq43nrSC_"
      }
    },
    {
      "cell_type": "code",
      "source": [
        "pca = PCA(n_components=num_components)\n",
        "transform_x = pca.fit_transform(X)\n",
        "\n",
        "x_train, x_test, y_train, y_test = train_test_split(transform_x, Y, test_size=0.20, stratify=Y)\n",
        "\n",
        "x_train = np.array(x_train)\n",
        "y_train = np.array(y_train)\n",
        "x_test = np.array(x_test)\n",
        "y_test = np.array(y_test)\n",
        "\n",
        "print(x_train.shape)\n"
      ],
      "metadata": {
        "colab": {
          "base_uri": "https://localhost:8080/"
        },
        "id": "VCkrFLJ3rT2_",
        "outputId": "37381253-9333-4ad4-ff85-8463e453dc63"
      },
      "execution_count": null,
      "outputs": [
        {
          "output_type": "stream",
          "name": "stdout",
          "text": [
            "(1492, 19)\n"
          ]
        }
      ]
    },
    {
      "cell_type": "code",
      "source": [
        "classifier = build_model((num_components,),20, 100, 2, .2)\n",
        "\n",
        "classifier.fit(x_train, y_train)\n",
        "\n",
        "result = classifier.evaluate(x_test, y_test)\n",
        "print(f\"Toy Neural Network Accuracy: {result[1]}\")"
      ],
      "metadata": {
        "colab": {
          "base_uri": "https://localhost:8080/"
        },
        "id": "YFKaoDz5rtZH",
        "outputId": "3707b96f-fc70-4ee8-b300-463bcf853ca7"
      },
      "execution_count": null,
      "outputs": [
        {
          "output_type": "stream",
          "name": "stdout",
          "text": [
            "47/47 [==============================] - 1s 4ms/step - loss: 0.6923 - accuracy: 0.5268\n",
            "12/12 [==============================] - 0s 3ms/step - loss: 0.6909 - accuracy: 0.5348\n",
            "Toy Neural Network Accuracy: 0.5347593426704407\n"
          ]
        }
      ]
    },
    {
      "cell_type": "code",
      "source": [
        "clf=RandomForestClassifier(n_estimators=20) #this is the number of decision trees that will be generated by Random Forest. The sample of the ensemble method used before\n",
        "\n",
        "#Fit Random Forest to the training data\n",
        "clf.fit(x_train, y_train)\n",
        "\n",
        "pred_true = 0\n",
        "pred_total = 0\n",
        "   \n",
        "for x, y in zip(x_test, y_test):\n",
        "   pred_class = clf.predict([x])[0]\n",
        "   if pred_class == y: pred_true += 1\n",
        "   pred_total += 1\n",
        "#printing Random Forest accuracy here\n",
        "print(\"Random Forest accuracy: \" + str(pred_true / pred_total))"
      ],
      "metadata": {
        "colab": {
          "base_uri": "https://localhost:8080/"
        },
        "id": "L0sNoKbrryuA",
        "outputId": "1ec79647-b7cc-4f93-8d6a-eb6cc114d954"
      },
      "execution_count": null,
      "outputs": [
        {
          "output_type": "stream",
          "name": "stdout",
          "text": [
            "Random Forest accuracy: 0.8743315508021391\n"
          ]
        }
      ]
    }
  ],
  "metadata": {
    "kernelspec": {
      "display_name": "Python 3.9.0 ('Project-jEE9hw4C')",
      "language": "python",
      "name": "python3"
    },
    "language_info": {
      "codemirror_mode": {
        "name": "ipython",
        "version": 3
      },
      "file_extension": ".py",
      "mimetype": "text/x-python",
      "name": "python",
      "nbconvert_exporter": "python",
      "pygments_lexer": "ipython3",
      "version": "3.9.0"
    },
    "orig_nbformat": 4,
    "vscode": {
      "interpreter": {
        "hash": "783af7bf7db3df9acc57b28cf1c4b690aa90b9e3e2dd1f6a838dafdf3bef4820"
      }
    },
    "colab": {
      "provenance": []
    }
  },
  "nbformat": 4,
  "nbformat_minor": 0
}